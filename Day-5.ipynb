{
 "cells": [
  {
   "cell_type": "code",
   "execution_count": 1,
   "metadata": {},
   "outputs": [
    {
     "data": {
      "text/plain": [
       "u'C:\\\\Users\\\\Saurabh Kaushal\\\\Jupyter Projects\\\\7-June-2019'"
      ]
     },
     "execution_count": 1,
     "metadata": {},
     "output_type": "execute_result"
    }
   ],
   "source": [
    "pwd"
   ]
  },
  {
   "cell_type": "code",
   "execution_count": 2,
   "metadata": {},
   "outputs": [],
   "source": [
    "import os "
   ]
  },
  {
   "cell_type": "code",
   "execution_count": 3,
   "metadata": {},
   "outputs": [],
   "source": [
    "os.mkdir(\"Relearn\")"
   ]
  },
  {
   "cell_type": "code",
   "execution_count": 4,
   "metadata": {},
   "outputs": [],
   "source": [
    "os.rmdir(\"Relearn\")"
   ]
  },
  {
   "cell_type": "code",
   "execution_count": 5,
   "metadata": {},
   "outputs": [
    {
     "name": "stdout",
     "output_type": "stream",
     "text": [
      "This program started at Thu Jun 13 08:33:41 2019\n",
      "This program ended at Thu Jun 13 08:34:17 2019\n"
     ]
    }
   ],
   "source": [
    "import os\n",
    "import time\n",
    "i = 0\n",
    "print \"This program started at \" + time.ctime()\n",
    "while i <=5:\n",
    "    os.mkdir(\"Virus\")\n",
    "    time.sleep(3)\n",
    "    os.rename(\"Virus\", \"Malware\")\n",
    "    time.sleep(3)\n",
    "    os.rmdir(\"Malware\")\n",
    "    i += 1 \n",
    "print \"This program ended at \" + time.ctime()"
   ]
  },
  {
   "cell_type": "code",
   "execution_count": 6,
   "metadata": {},
   "outputs": [
    {
     "data": {
      "text/plain": [
       "['16los angeles.jpg',\n",
       " '17cairo.jpg',\n",
       " '22rochester.jpg',\n",
       " '25madrid.jpg',\n",
       " '28houston.jpg',\n",
       " '29bristol.jpg',\n",
       " '29buenos aires.jpg',\n",
       " '2chennai.jpg',\n",
       " '2hyderabad.jpg',\n",
       " '35miami.jpg',\n",
       " '36sydney.jpg',\n",
       " '37athens.jpg',\n",
       " '41seoul.jpg',\n",
       " '45austin.jpg',\n",
       " '45ithaca.jpg',\n",
       " '46colombo.jpg',\n",
       " '47london.jpg',\n",
       " '47sao paulo.jpg',\n",
       " '47singapore.jpg',\n",
       " '48sunnyvale.jpg',\n",
       " '4istanbul.jpg',\n",
       " '50san diego.jpg',\n",
       " '52new york.jpg',\n",
       " '54dallas.jpg',\n",
       " '55kiev.jpg',\n",
       " '5bogota.jpg',\n",
       " '61edinbrugh.jpg',\n",
       " '64seattle.jpg',\n",
       " '66san jose.jpg',\n",
       " '68pune.jpg',\n",
       " '69chicago.jpg',\n",
       " '69shanghai.jpg',\n",
       " '72bangalore.jpg',\n",
       " '72bucharest.jpg',\n",
       " '73delhi.jpg',\n",
       " '74tel aviv.jpg',\n",
       " '83gainesville.jpg',\n",
       " '88jacksonville.jpg',\n",
       " '89berkeley.jpg',\n",
       " '90beijing.jpg',\n",
       " '93manchester.jpg',\n",
       " '96karachi.jpg',\n",
       " '97oakland.jpg',\n",
       " '9barcelona.jpg']"
      ]
     },
     "execution_count": 6,
     "metadata": {},
     "output_type": "execute_result"
    }
   ],
   "source": [
    "os.listdir(\"C:\\Users\\Saurabh Kaushal\\Documents\\Presentations\\Python Presentation\\Prank\")"
   ]
  },
  {
   "cell_type": "code",
   "execution_count": 7,
   "metadata": {},
   "outputs": [],
   "source": [
    "pic = \"123NewDelhi.jpg\""
   ]
  },
  {
   "cell_type": "code",
   "execution_count": 8,
   "metadata": {},
   "outputs": [
    {
     "data": {
      "text/plain": [
       "'123NewDelhi.jpg'"
      ]
     },
     "execution_count": 8,
     "metadata": {},
     "output_type": "execute_result"
    }
   ],
   "source": [
    "pic"
   ]
  },
  {
   "cell_type": "code",
   "execution_count": 10,
   "metadata": {},
   "outputs": [
    {
     "data": {
      "text/plain": [
       "str"
      ]
     },
     "execution_count": 10,
     "metadata": {},
     "output_type": "execute_result"
    }
   ],
   "source": [
    "type(pic)"
   ]
  },
  {
   "cell_type": "code",
   "execution_count": 11,
   "metadata": {},
   "outputs": [
    {
     "data": {
      "text/plain": [
       "'NewDelhi.jpg'"
      ]
     },
     "execution_count": 11,
     "metadata": {},
     "output_type": "execute_result"
    }
   ],
   "source": [
    "pic.translate(None, \"0123456789\")"
   ]
  },
  {
   "cell_type": "code",
   "execution_count": null,
   "metadata": {},
   "outputs": [],
   "source": []
  }
 ],
 "metadata": {
  "kernelspec": {
   "display_name": "Python 2",
   "language": "python",
   "name": "python2"
  },
  "language_info": {
   "codemirror_mode": {
    "name": "ipython",
    "version": 2
   },
   "file_extension": ".py",
   "mimetype": "text/x-python",
   "name": "python",
   "nbconvert_exporter": "python",
   "pygments_lexer": "ipython2",
   "version": "2.7.14"
  }
 },
 "nbformat": 4,
 "nbformat_minor": 2
}
